{
 "cells": [
  {
   "cell_type": "code",
   "execution_count": 15,
   "id": "1ab802c8",
   "metadata": {},
   "outputs": [
    {
     "name": "stderr",
     "output_type": "stream",
     "text": [
      "[nltk_data] Downloading package punkt to\n",
      "[nltk_data]     C:\\Users\\kengu\\AppData\\Roaming\\nltk_data...\n",
      "[nltk_data]   Package punkt is already up-to-date!\n",
      "[nltk_data] Downloading package punkt_tab to\n",
      "[nltk_data]     C:\\Users\\kengu\\AppData\\Roaming\\nltk_data...\n",
      "[nltk_data]   Unzipping tokenizers\\punkt_tab.zip.\n",
      "[nltk_data] Downloading package stopwords to\n",
      "[nltk_data]     C:\\Users\\kengu\\AppData\\Roaming\\nltk_data...\n",
      "[nltk_data]   Package stopwords is already up-to-date!\n",
      "[nltk_data] Downloading package wordnet to\n",
      "[nltk_data]     C:\\Users\\kengu\\AppData\\Roaming\\nltk_data...\n",
      "[nltk_data]   Package wordnet is already up-to-date!\n",
      "[nltk_data] Downloading package omw-1.4 to\n",
      "[nltk_data]     C:\\Users\\kengu\\AppData\\Roaming\\nltk_data...\n",
      "[nltk_data]   Package omw-1.4 is already up-to-date!\n"
     ]
    },
    {
     "data": {
      "text/plain": [
       "True"
      ]
     },
     "execution_count": 15,
     "metadata": {},
     "output_type": "execute_result"
    }
   ],
   "source": [
    "import re\n",
    "import string\n",
    "import pandas as pd\n",
    "import numpy as np\n",
    "import contractions\n",
    "import emoji\n",
    "import nltk\n",
    "from nltk.corpus import stopwords\n",
    "from nltk.tokenize import word_tokenize\n",
    "from nltk.stem import WordNetLemmatizer\n",
    "from sklearn.model_selection import train_test_split\n",
    "\n",
    "# Download NLTK resources if not already present\n",
    "nltk.download(\"punkt\")\n",
    "nltk.download(\"punkt_tab\")\n",
    "nltk.download(\"stopwords\")\n",
    "nltk.download(\"wordnet\")\n",
    "nltk.download(\"omw-1.4\")"
   ]
  },
  {
   "cell_type": "code",
   "execution_count": 17,
   "id": "c76fec2b",
   "metadata": {},
   "outputs": [],
   "source": [
    "def expand_contractions(text):\n",
    "    \"\"\"\n",
    "    Expands contractions in English text.\n",
    "    Example: \"can't\" -> \"cannot\", \"I'm\" -> \"I am\"\n",
    "    \"\"\"\n",
    "    if not isinstance(text, str) or text.strip() == \"\":\n",
    "        return \"\"\n",
    "    try:\n",
    "        return contractions.fix(text)\n",
    "    except Exception as e:\n",
    "        # fallback in case contractions lib fails\n",
    "        print(f\"[WARN] Contraction expansion failed for text: {text[:50]}... | Error: {e}\")\n",
    "        return text\n"
   ]
  },
  {
   "cell_type": "code",
   "execution_count": 9,
   "id": "af91a5d5",
   "metadata": {},
   "outputs": [],
   "source": [
    "def basic_cleaning(text):\n",
    "    \"\"\"\n",
    "    - Lowercase text\n",
    "    - Remove URLs, mentions, hashtags\n",
    "    - Remove numbers and punctuation (keep words only)\n",
    "    - Remove extra whitespace\n",
    "    \"\"\"\n",
    "    text = text.lower()\n",
    "    text = re.sub(r\"http\\S+|www\\S+|https\\S+\", \" \", text)  # remove links\n",
    "    text = re.sub(r\"@\\w+|#\\w+\", \" \", text)  # remove mentions and hashtags\n",
    "    text = re.sub(r\"\\d+\", \" \", text)  # remove numbers\n",
    "    text = text.translate(str.maketrans(\"\", \"\", string.punctuation))  # remove punctuation\n",
    "    text = re.sub(r\"\\s+\", \" \", text).strip()\n",
    "    return text\n"
   ]
  },
  {
   "cell_type": "code",
   "execution_count": 10,
   "id": "da968e8a",
   "metadata": {},
   "outputs": [],
   "source": [
    "def handle_emojis(text):\n",
    "    \"\"\"\n",
    "    Converts emojis into words.\n",
    "    Example: \"😭\" -> \"loudly crying face\"\n",
    "    \"\"\"\n",
    "    return emoji.demojize(text, delimiters=(\" \", \" \"))\n"
   ]
  },
  {
   "cell_type": "code",
   "execution_count": 11,
   "id": "5f9c29d8",
   "metadata": {},
   "outputs": [],
   "source": [
    "stop_words = set(stopwords.words(\"english\"))\n",
    "lemmatizer = WordNetLemmatizer()\n",
    "\n",
    "def tokenize_and_lemmatize(text):\n",
    "    \"\"\"\n",
    "    - Tokenizes text\n",
    "    - Removes stopwords\n",
    "    - Lemmatizes each token\n",
    "    \"\"\"\n",
    "    tokens = word_tokenize(text)\n",
    "    tokens = [t for t in tokens if t not in stop_words]\n",
    "    tokens = [lemmatizer.lemmatize(t) for t in tokens]\n",
    "    return \" \".join(tokens)\n"
   ]
  },
  {
   "cell_type": "code",
   "execution_count": 21,
   "id": "d886f51e",
   "metadata": {},
   "outputs": [],
   "source": [
    "def tokenize_lemmatize(text):\n",
    "    if not isinstance(text, str):\n",
    "        return \"\"\n",
    "    try:\n",
    "        tokens = nltk.word_tokenize(text)\n",
    "        tokens = [w for w in tokens if w not in stop_words and len(w) > 2]\n",
    "        tokens = [lemmatizer.lemmatize(w) for w in tokens]\n",
    "        return \" \".join(tokens)\n",
    "    except Exception as e:\n",
    "        print(f\"[WARN] Tokenization failed: {text[:50]}... | {e}\")\n",
    "        return text"
   ]
  },
  {
   "cell_type": "code",
   "execution_count": 22,
   "id": "2d094168",
   "metadata": {},
   "outputs": [],
   "source": [
    "stop_words = set(stopwords.words(\"english\"))\n",
    "lemmatizer = WordNetLemmatizer()\n",
    "\n",
    "def clean_text(text):\n",
    "    \"\"\"\n",
    "    Full cleaning pipeline with guards.\n",
    "    Steps:\n",
    "    1. Expand contractions\n",
    "    2. Handle emojis\n",
    "    3. Basic cleaning (URLs, punctuation, lowercasing)\n",
    "    4. Tokenization + stopwords removal + lemmatization\n",
    "    \"\"\"\n",
    "    if not isinstance(text, str) or text.strip() == \"\":\n",
    "        return \"\"\n",
    "    try:\n",
    "        text = expand_contractions(text)\n",
    "        text = handle_emojis(text)\n",
    "        text = basic_cleaning(text)\n",
    "        text = tokenize_lemmatize(text)\n",
    "        return text.strip()\n",
    "    except Exception as e:\n",
    "        print(f\"[WARN] clean_text failed: {text[:50]}... | {e}\")\n",
    "        return \"\""
   ]
  },
  {
   "cell_type": "code",
   "execution_count": 23,
   "id": "e4005732",
   "metadata": {},
   "outputs": [
    {
     "name": "stdout",
     "output_type": "stream",
     "text": [
      "Before cleaning:\n",
      "         id                                              title  \\\n",
      "0    ak3cm1                My mental health is ruining my life   \n",
      "1  d9a53bb3  20 of 365 I'm surprised [Godzilla ](https://yo...   \n",
      "2   1jae7ux                      Poverty has destroyed my life   \n",
      "\n",
      "                                            selftext    label  \n",
      "0  Every morning I wake up in a panic and I cant ...  anxiety  \n",
      "1     wasn't 2020's final piece of revenge. (Eminem)   normal  \n",
      "2  I live in a homeless shelter. We can't close t...  anxiety  \n"
     ]
    }
   ],
   "source": [
    "# Example: replace with your actual dataset path\n",
    "df = pd.read_csv(\"../data/processed/balanced_dataset.csv\")\n",
    "\n",
    "print(\"Before cleaning:\")\n",
    "print(df.head(3))\n"
   ]
  },
  {
   "cell_type": "code",
   "execution_count": 24,
   "id": "c5f9ef9e",
   "metadata": {},
   "outputs": [
    {
     "name": "stdout",
     "output_type": "stream",
     "text": [
      "[WARN] Contraction expansion failed for text: [L][M][16] tired and don't know what to do My best... | Error: string index out of range\n",
      "After cleaning:\n",
      "                                          clean_text    label\n",
      "0  mental health ruining life every morning wake ...  anxiety\n",
      "1      surprised godzilla final piece revenge eminem   normal\n",
      "2  poverty destroyed life live homeless shelter c...  anxiety\n"
     ]
    }
   ],
   "source": [
    "df[\"clean_text\"] = df[\"title\"].fillna(\"\") + \" \" + df[\"selftext\"].fillna(\"\")\n",
    "df[\"clean_text\"] = df[\"clean_text\"].apply(clean_text)\n",
    "\n",
    "print(\"After cleaning:\")\n",
    "print(df[[\"clean_text\", \"label\"]].head(3))\n"
   ]
  },
  {
   "cell_type": "code",
   "execution_count": 25,
   "id": "1ddfeb0e",
   "metadata": {},
   "outputs": [
    {
     "name": "stdout",
     "output_type": "stream",
     "text": [
      "Train size: (35820, 5)\n",
      "Test size: (8955, 5)\n"
     ]
    }
   ],
   "source": [
    "# 80% Train, 20% Test\n",
    "train_df, test_df = train_test_split(df, test_size=0.2, stratify=df[\"label\"], random_state=42)\n",
    "\n",
    "print(\"Train size:\", train_df.shape)\n",
    "print(\"Test size:\", test_df.shape)\n"
   ]
  },
  {
   "cell_type": "code",
   "execution_count": 26,
   "id": "348be4a9",
   "metadata": {},
   "outputs": [
    {
     "name": "stdout",
     "output_type": "stream",
     "text": [
      "✅ Train and test CSVs saved in ../data/processed/\n"
     ]
    }
   ],
   "source": [
    "# Save train and test CSVs\n",
    "train_df.to_csv(\"../data/processed/train.csv\", index=False)\n",
    "test_df.to_csv(\"../data/processed/test.csv\", index=False)\n",
    "\n",
    "print(\"✅ Train and test CSVs saved in ../data/processed/\")\n"
   ]
  }
 ],
 "metadata": {
  "kernelspec": {
   "display_name": "venv_balancing",
   "language": "python",
   "name": "python3"
  },
  "language_info": {
   "codemirror_mode": {
    "name": "ipython",
    "version": 3
   },
   "file_extension": ".py",
   "mimetype": "text/x-python",
   "name": "python",
   "nbconvert_exporter": "python",
   "pygments_lexer": "ipython3",
   "version": "3.11.5"
  }
 },
 "nbformat": 4,
 "nbformat_minor": 5
}
